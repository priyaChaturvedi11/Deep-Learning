{
  "nbformat": 4,
  "nbformat_minor": 0,
  "metadata": {
    "colab": {
      "name": "NNFromScratch.ipynb",
      "provenance": [],
      "authorship_tag": "ABX9TyMutI+cu9vy1ula9MbnzfBC",
      "include_colab_link": true
    },
    "kernelspec": {
      "name": "python3",
      "display_name": "Python 3"
    }
  },
  "cells": [
    {
      "cell_type": "markdown",
      "metadata": {
        "id": "view-in-github",
        "colab_type": "text"
      },
      "source": [
        "<a href=\"https://colab.research.google.com/github/priyaChaturvedi11/Deep-Learning/blob/master/NNFromScratch.ipynb\" target=\"_parent\"><img src=\"https://colab.research.google.com/assets/colab-badge.svg\" alt=\"Open In Colab\"/></a>"
      ]
    },
    {
      "cell_type": "code",
      "metadata": {
        "id": "mqoFlX0cYfkQ"
      },
      "source": [
        ""
      ],
      "execution_count": null,
      "outputs": []
    },
    {
      "cell_type": "markdown",
      "metadata": {
        "id": "iWn6ATAkYin1"
      },
      "source": [
        "Building a Neural Network for Image Classification From Scratch"
      ]
    },
    {
      "cell_type": "code",
      "metadata": {
        "id": "cwlQZqeiYva4"
      },
      "source": [
        "import numpy as np\n",
        "import matplotlib.pyplot as plt\n",
        "import h5py\n",
        "import scipy\n",
        "from PIL import Image\n",
        "from scipy import ndimage\n",
        "from lr_utils import load_dataset\n",
        "%matplotlib inline"
      ],
      "execution_count": null,
      "outputs": []
    },
    {
      "cell_type": "code",
      "metadata": {
        "id": "L41TfH67cmeU"
      },
      "source": [
        "train_x, train_y, test_x, test_y, classes = load_dataset()\n",
        "plt.imshow(train_x[2])\n",
        "print(classes[np.squeeze(train_y[:,25])].decode('utf-8'))"
      ],
      "execution_count": null,
      "outputs": []
    }
  ]
}